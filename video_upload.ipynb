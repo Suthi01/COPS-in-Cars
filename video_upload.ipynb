{
  "nbformat": 4,
  "nbformat_minor": 0,
  "metadata": {
    "colab": {
      "provenance": []
    },
    "kernelspec": {
      "name": "python3",
      "display_name": "Python 3"
    },
    "language_info": {
      "name": "python"
    }
  },
  "cells": [
    {
      "cell_type": "code",
      "execution_count": null,
      "metadata": {
        "id": "2mAdXLkLZPqw"
      },
      "outputs": [],
      "source": [
        "import cv2\n",
        "import datetime\n",
        "\n",
        "# Initialize the USB webcam\n",
        "camera = cv2.VideoCapture(0)  # '0' indicates the first connected webcam\n",
        "\n",
        "# Check if the webcam is opened correctly\n",
        "if not camera.isOpened():\n",
        "    print(\"Error: Could not access the webcam.\")\n",
        "    exit()\n",
        "\n",
        "# Set resolution (Optional)\n",
        "camera.set(3, 640)  # Width\n",
        "camera.set(4, 480)  # Height\n",
        "\n",
        "# Video saving parameters\n",
        "timestamp = datetime.datetime.now().strftime(\"%Y%m%d_%H%M%S\")\n",
        "output_file = f'live_recording_{timestamp}.avi'\n",
        "frame_width = int(camera.get(cv2.CAP_PROP_FRAME_WIDTH))\n",
        "frame_height = int(camera.get(cv2.CAP_PROP_FRAME_HEIGHT))\n",
        "\n",
        "# VideoWriter object to save the video\n",
        "fourcc = cv2.VideoWriter_fourcc(*'XVID')  # Codec for .avi format\n",
        "output = cv2.VideoWriter(output_file, fourcc, 20.0, (frame_width, frame_height))\n",
        "\n",
        "print(\"Recording Live... Press 'q' to stop.\")\n",
        "\n",
        "while True:\n",
        "    ret, frame = camera.read()\n",
        "    if ret:\n",
        "        # Display the live feed\n",
        "        cv2.imshow('Live Video Feed', frame)\n",
        "\n",
        "        # Record the live feed\n",
        "        output.write(frame)\n",
        "\n",
        "        # Press 'q' to exit recording\n",
        "        if cv2.waitKey(1) & 0xFF == ord('q'):\n",
        "            break\n",
        "    else:\n",
        "        print(\"Failed to capture frame.\")\n",
        "        break\n",
        "\n",
        "# Release resources\n",
        "camera.release()\n",
        "output.release()\n",
        "cv2.destroyAllWindows()\n",
        "\n",
        "print(f\"Video saved as {output_file}\")"
      ]
    }
  ]
}