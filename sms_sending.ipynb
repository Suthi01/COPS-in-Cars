{
  "nbformat": 4,
  "nbformat_minor": 0,
  "metadata": {
    "colab": {
      "provenance": []
    },
    "kernelspec": {
      "name": "python3",
      "display_name": "Python 3"
    },
    "language_info": {
      "name": "python"
    }
  },
  "cells": [
    {
      "cell_type": "code",
      "execution_count": null,
      "metadata": {
        "id": "2mAdXLkLZPqw"
      },
      "outputs": [],
      "source": [
        "import json\n",
        "import subprocess\n",
        "#register in clicksend website with valid mail id\n",
        "username = ' '#user business mail id\n",
        "api_key = ' '# api that has genereted from clicksend\n",
        "\n",
        "  # SMS details\n",
        "msg_to = ' '  # Recipient's mobile number in international format\n",
        "msg_from = ' '           # Custom sender ID (leave blank to accept replies)\n",
        "msg_body = \" \"  # The message content\n",
        "\n",
        "  # Create the request payload\n",
        "request = {\n",
        "    \"messages\": [\n",
        "        {\n",
        "            \"source\": \"rpi\",\n",
        "            \"from\": msg_from,\n",
        "            \"to\": msg_to,\n",
        "            \"body\": msg_body\n",
        "        }\n",
        "    ]\n",
        "}\n",
        "request = json.dumps(request)\n",
        "\n",
        "\n",
        "  #\n",
        "  # Prepare the curl command\n",
        "cmd = (\n",
        "    f\"curl https://rest.clicksend.com/v3/sms/send -u {username}:{api_key} \"\n",
        "    f\"-H \\\"Content-Type: application/json\\\" -X POST --data-raw '{request}'\"\n",
        ")\n",
        "\n",
        "  # Execute the command\n",
        "process = subprocess.Popen(cmd, stdout=subprocess.PIPE, stderr=subprocess.PIPE, shell=True)\n",
        "output, error = process.communicate()\n",
        "\n",
        "  # Print the response\n",
        "print(output.decode())"
      ]
    }
  ]
}